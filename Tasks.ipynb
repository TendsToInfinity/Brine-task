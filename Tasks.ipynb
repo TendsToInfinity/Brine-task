{
  "nbformat": 4,
  "nbformat_minor": 0,
  "metadata": {
    "colab": {
      "provenance": [],
      "authorship_tag": "ABX9TyM5wL9EKdsKeOUDI6aVXgpC",
      "include_colab_link": true
    },
    "kernelspec": {
      "name": "python3",
      "display_name": "Python 3"
    },
    "language_info": {
      "name": "python"
    }
  },
  "cells": [
    {
      "cell_type": "markdown",
      "metadata": {
        "id": "view-in-github",
        "colab_type": "text"
      },
      "source": [
        "<a href=\"https://colab.research.google.com/github/TendsToInfinity/Brine-task/blob/main/Tasks.ipynb\" target=\"_parent\"><img src=\"https://colab.research.google.com/assets/colab-badge.svg\" alt=\"Open In Colab\"/></a>"
      ]
    },
    {
      "cell_type": "code",
      "execution_count": null,
      "metadata": {
        "id": "ugviE1rvsq3Z"
      },
      "outputs": [],
      "source": [
        "import pandas as pd\n",
        "\n",
        "# Load the data\n",
        "df = pd.read_csv('orders.csv')\n"
      ]
    },
    {
      "cell_type": "markdown",
      "source": [
        "Create a new column for the total cost of each order"
      ],
      "metadata": {
        "id": "0lyEKehgsrm4"
      }
    },
    {
      "cell_type": "code",
      "source": [
        "# Create a new column for the total cost of each order\n",
        "df['total_cost'] = df['product_price'] * df['quantity']"
      ],
      "metadata": {
        "id": "UMzyn1gLszEZ"
      },
      "execution_count": null,
      "outputs": []
    },
    {
      "cell_type": "code",
      "source": [
        "# Convert order_date to datetime format\n",
        "df['order_date'] = pd.to_datetime(df['order_date'])"
      ],
      "metadata": {
        "id": "3sv3bdCxtgCz"
      },
      "execution_count": null,
      "outputs": []
    },
    {
      "cell_type": "code",
      "source": [
        "# Set order_date as the index of the DataFrame to use resample\n",
        "df.set_index('order_date', inplace=True)\n"
      ],
      "metadata": {
        "id": "gtTuEn4EtiDX"
      },
      "execution_count": null,
      "outputs": []
    },
    {
      "cell_type": "code",
      "source": [
        "# Calculate total revenue per month\n",
        "monthly_revenue = df.resample('M')['total_cost'].sum()"
      ],
      "metadata": {
        "id": "7_JtFyzztj5D"
      },
      "execution_count": null,
      "outputs": []
    },
    {
      "cell_type": "code",
      "source": [
        "# Calculate total revenue per product\n",
        "product_revenue = df.groupby('product_name')['total_cost'].sum()"
      ],
      "metadata": {
        "id": "hvvTrBlCtmjY"
      },
      "execution_count": null,
      "outputs": []
    },
    {
      "cell_type": "code",
      "source": [
        "# Calculate total revenue per customer\n",
        "customer_revenue = df.groupby('customer_id')['total_cost'].sum()"
      ],
      "metadata": {
        "id": "wNXi6wyMtoPr"
      },
      "execution_count": null,
      "outputs": []
    },
    {
      "cell_type": "code",
      "source": [
        "# Get the top 10 customers by revenue\n",
        "top_10_customers = customer_revenue.nlargest(10)"
      ],
      "metadata": {
        "id": "EdjHyeCNto9f"
      },
      "execution_count": null,
      "outputs": []
    },
    {
      "cell_type": "code",
      "source": [
        "# Print results\n",
        "print(\"Total Revenue per Month:\")\n",
        "print(monthly_revenue)\n",
        "print(\"\\nTotal Revenue per Product:\")\n",
        "print(product_revenue)\n",
        "print(\"\\nTotal Revenue per Customer:\")\n",
        "print(customer_revenue)\n",
        "print(\"\\nTop 10 Customers by Revenue:\")\n",
        "print(top_10_customers)"
      ],
      "metadata": {
        "colab": {
          "base_uri": "https://localhost:8080/"
        },
        "id": "HucW9wDatqlY",
        "outputId": "857ca6fa-198e-46f6-8593-ef3f7acbe146"
      },
      "execution_count": null,
      "outputs": [
        {
          "output_type": "stream",
          "name": "stdout",
          "text": [
            "Total Revenue per Month:\n",
            "order_date\n",
            "2022-01-31    6436431\n",
            "Freq: M, Name: total_cost, dtype: int64\n",
            "\n",
            "Total Revenue per Product:\n",
            "product_name\n",
            "a           5848\n",
            "abc        11348\n",
            "abd        17025\n",
            "abf        22704\n",
            "abg        28385\n",
            "ajs      1450080\n",
            "are        62513\n",
            "asd         6210\n",
            "done       34068\n",
            "get        45440\n",
            "hello     238770\n",
            "how        68208\n",
            "jk       1417812\n",
            "lets       51129\n",
            "nvnv     1482350\n",
            "olk      1385546\n",
            "qwe         6394\n",
            "this       39753\n",
            "you        56820\n",
            "zxc         6028\n",
            "Name: total_cost, dtype: int64\n",
            "\n",
            "Total Revenue per Customer:\n",
            "customer_id\n",
            "1234      11348\n",
            "1235      17025\n",
            "1236      22704\n",
            "1237      28385\n",
            "1238      34068\n",
            "1239      39753\n",
            "1240      45440\n",
            "1241      51129\n",
            "1242      56820\n",
            "1243      62513\n",
            "1244      68208\n",
            "1245     238770\n",
            "1246    1385546\n",
            "1247    1417812\n",
            "1248    1450080\n",
            "1249    1482350\n",
            "1250       5848\n",
            "1251       6028\n",
            "1252       6210\n",
            "1253       6394\n",
            "Name: total_cost, dtype: int64\n",
            "\n",
            "Top 10 Customers by Revenue:\n",
            "customer_id\n",
            "1249    1482350\n",
            "1248    1450080\n",
            "1247    1417812\n",
            "1246    1385546\n",
            "1245     238770\n",
            "1244      68208\n",
            "1243      62513\n",
            "1242      56820\n",
            "1241      51129\n",
            "1240      45440\n",
            "Name: total_cost, dtype: int64\n"
          ]
        }
      ]
    }
  ]
}